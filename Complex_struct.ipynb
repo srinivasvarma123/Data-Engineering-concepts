{
  "nbformat": 4,
  "nbformat_minor": 0,
  "metadata": {
    "colab": {
      "provenance": [],
      "authorship_tag": "ABX9TyMvImU+PVMd0iwmBeGz8lva",
      "include_colab_link": true
    },
    "kernelspec": {
      "name": "python3",
      "display_name": "Python 3"
    },
    "language_info": {
      "name": "python"
    }
  },
  "cells": [
    {
      "cell_type": "markdown",
      "metadata": {
        "id": "view-in-github",
        "colab_type": "text"
      },
      "source": [
        "<a href=\"https://colab.research.google.com/github/srinivasvarma123/Data-Engineering-concepts/blob/main/Complex_struct.ipynb\" target=\"_parent\"><img src=\"https://colab.research.google.com/assets/colab-badge.svg\" alt=\"Open In Colab\"/></a>"
      ]
    },
    {
      "cell_type": "code",
      "execution_count": 1,
      "metadata": {
        "id": "YdA8Uw4VzjP_"
      },
      "outputs": [],
      "source": [
        "from pyspark.sql import SparkSession\n",
        "spark = SparkSession.builder.appName(\"pyspark\").getOrCreate()\n",
        "\n",
        "sc = spark.sparkContext\n",
        "from pyspark.sql.functions import *"
      ]
    },
    {
      "cell_type": "code",
      "source": [
        "data = \"\"\"\n",
        "{\n",
        "    \"id\": 2,\n",
        "    \"trainer\" : \"sai\",\n",
        "    \"zeyoaddress\":{\n",
        "        \"permanentAddress\":\"hyderabad\",\n",
        "        \"temporaryAddress\":\"chennai\"\n",
        "    }\n",
        "}\n",
        "\"\"\"\n",
        "\n",
        "\n",
        "rdd = sc.parallelize([data])\n",
        "df = spark.read.option(\"multiline\",\"true\").json(rdd)\n",
        "\n",
        "df.show()\n",
        "df.printSchema()\n",
        "\n",
        "flattendf = df.select(\n",
        "                    \"id\",\n",
        "                    \"trainer\",\n",
        "                    \"zeyoaddress.permanentAddress\",\n",
        "                    \"zeyoaddress.temporaryAddress\"\n",
        ")\n",
        "flattendf.show()\n",
        "flattendf.printSchema()"
      ],
      "metadata": {
        "colab": {
          "base_uri": "https://localhost:8080/"
        },
        "id": "Z6ZB94L6zuzi",
        "outputId": "1cf6b42c-55fa-4824-a0c1-bb88378a69e7"
      },
      "execution_count": 2,
      "outputs": [
        {
          "output_type": "stream",
          "name": "stdout",
          "text": [
            "+---+-------+--------------------+\n",
            "| id|trainer|         zeyoaddress|\n",
            "+---+-------+--------------------+\n",
            "|  2|    sai|{hyderabad, chennai}|\n",
            "+---+-------+--------------------+\n",
            "\n",
            "root\n",
            " |-- id: long (nullable = true)\n",
            " |-- trainer: string (nullable = true)\n",
            " |-- zeyoaddress: struct (nullable = true)\n",
            " |    |-- permanentAddress: string (nullable = true)\n",
            " |    |-- temporaryAddress: string (nullable = true)\n",
            "\n",
            "+---+-------+----------------+----------------+\n",
            "| id|trainer|permanentAddress|temporaryAddress|\n",
            "+---+-------+----------------+----------------+\n",
            "|  2|    sai|       hyderabad|         chennai|\n",
            "+---+-------+----------------+----------------+\n",
            "\n",
            "root\n",
            " |-- id: long (nullable = true)\n",
            " |-- trainer: string (nullable = true)\n",
            " |-- permanentAddress: string (nullable = true)\n",
            " |-- temporaryAddress: string (nullable = true)\n",
            "\n"
          ]
        }
      ]
    },
    {
      "cell_type": "code",
      "source": [
        "data1=\"\"\"\n",
        "\n",
        "\n",
        "{\n",
        "\t\"place\": \"Hyderabad\",\n",
        "\t\"user\": {\n",
        "\t\t\"name\": \"zeyo\",\n",
        "\t\t\"address\": {\n",
        "\t\t\t\"number\": \"40\",\n",
        "\t\t\t\"street\": \"ashok nagar\",\n",
        "\t\t\t\"pin\": \"400209\"\n",
        "\t\t}\n",
        "\t}\n",
        "}\n",
        "\n",
        "\n",
        "\"\"\"\n",
        "\n",
        "rdd1 = sc.parallelize([data1])\n",
        "df1 = spark.read.option(\"multiline\", \"true\").json(rdd1)\n",
        "df1.show()\n",
        "df1.printSchema()\n",
        "\n",
        "flatten_df1 = df1.select(\n",
        "                    \"place\",\n",
        "                    \"user.address.number\",\n",
        "                    \"user.address.pin\",\n",
        "                    \"user.address.street\",\n",
        "                    \"user.name\"\n",
        ")\n",
        "flatten_df1.show()\n",
        "flatten_df1.printSchema()"
      ],
      "metadata": {
        "colab": {
          "base_uri": "https://localhost:8080/"
        },
        "id": "jGHv66DFzvsk",
        "outputId": "8050334b-4363-468f-d52f-215b9c2db932"
      },
      "execution_count": 3,
      "outputs": [
        {
          "output_type": "stream",
          "name": "stdout",
          "text": [
            "+---------+--------------------+\n",
            "|    place|                user|\n",
            "+---------+--------------------+\n",
            "|Hyderabad|{{40, 400209, ash...|\n",
            "+---------+--------------------+\n",
            "\n",
            "root\n",
            " |-- place: string (nullable = true)\n",
            " |-- user: struct (nullable = true)\n",
            " |    |-- address: struct (nullable = true)\n",
            " |    |    |-- number: string (nullable = true)\n",
            " |    |    |-- pin: string (nullable = true)\n",
            " |    |    |-- street: string (nullable = true)\n",
            " |    |-- name: string (nullable = true)\n",
            "\n",
            "+---------+------+------+-----------+----+\n",
            "|    place|number|   pin|     street|name|\n",
            "+---------+------+------+-----------+----+\n",
            "|Hyderabad|    40|400209|ashok nagar|zeyo|\n",
            "+---------+------+------+-----------+----+\n",
            "\n",
            "root\n",
            " |-- place: string (nullable = true)\n",
            " |-- number: string (nullable = true)\n",
            " |-- pin: string (nullable = true)\n",
            " |-- street: string (nullable = true)\n",
            " |-- name: string (nullable = true)\n",
            "\n"
          ]
        }
      ]
    },
    {
      "cell_type": "code",
      "source": [
        "data2=\"\"\"\n",
        "{\n",
        "    \"place\": \"Hyderabad\",\n",
        "    \"user\": {\n",
        "        \"name\": \"zeyo\",\n",
        "        \"address\": {\n",
        "            \"number\": \"40\",\n",
        "            \"street\": \"ashok nagar\",\n",
        "            \"pin\": \"400209\"\n",
        "        }\n",
        "    }\n",
        "}\n",
        "\"\"\"\n",
        "\n",
        "rdd2 = sc.parallelize([data2])\n",
        "df2 = spark.read.option(\"multivalue\", \"true\").json(rdd2)\n",
        "df2.show()\n",
        "df2.printSchema()\n",
        "\n",
        "\n",
        "flattendf2 = (\n",
        "            df2.withColumn(\"number\", expr(\"user.address.number\"))\n",
        "                .withColumn(\"pin\",expr(\"user.address.pin\"))\n",
        "                .withColumn(\"street\", expr(\"user.address.street\"))\n",
        "                .withColumn(\"name\", expr(\"user.name\"))\n",
        "                .drop(\"user\")\n",
        ")\n",
        "\n",
        "flattendf2.show()\n",
        "flattendf2.printSchema()"
      ],
      "metadata": {
        "colab": {
          "base_uri": "https://localhost:8080/"
        },
        "id": "JPeemu4Azv2U",
        "outputId": "39fb12d6-9ebe-4597-aacd-619ca37263a0"
      },
      "execution_count": 4,
      "outputs": [
        {
          "output_type": "stream",
          "name": "stdout",
          "text": [
            "+---------+--------------------+\n",
            "|    place|                user|\n",
            "+---------+--------------------+\n",
            "|Hyderabad|{{40, 400209, ash...|\n",
            "+---------+--------------------+\n",
            "\n",
            "root\n",
            " |-- place: string (nullable = true)\n",
            " |-- user: struct (nullable = true)\n",
            " |    |-- address: struct (nullable = true)\n",
            " |    |    |-- number: string (nullable = true)\n",
            " |    |    |-- pin: string (nullable = true)\n",
            " |    |    |-- street: string (nullable = true)\n",
            " |    |-- name: string (nullable = true)\n",
            "\n",
            "+---------+------+------+-----------+----+\n",
            "|    place|number|   pin|     street|name|\n",
            "+---------+------+------+-----------+----+\n",
            "|Hyderabad|    40|400209|ashok nagar|zeyo|\n",
            "+---------+------+------+-----------+----+\n",
            "\n",
            "root\n",
            " |-- place: string (nullable = true)\n",
            " |-- number: string (nullable = true)\n",
            " |-- pin: string (nullable = true)\n",
            " |-- street: string (nullable = true)\n",
            " |-- name: string (nullable = true)\n",
            "\n"
          ]
        }
      ]
    }
  ]
}